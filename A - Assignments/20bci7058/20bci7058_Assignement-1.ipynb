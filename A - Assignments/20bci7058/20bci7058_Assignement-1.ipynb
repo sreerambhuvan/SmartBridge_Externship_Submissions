{
  "nbformat": 4,
  "nbformat_minor": 0,
  "metadata": {
    "colab": {
      "provenance": []
    },
    "kernelspec": {
      "name": "python3",
      "display_name": "Python 3"
    },
    "language_info": {
      "name": "python"
    }
  },
  "cells": [
    {
      "cell_type": "markdown",
      "source": [
        "# **Name:B.Sreeram Bhuvan**\n",
        "\n",
        "# **Email:sreeram.20bci7058@vitap.ac.in**\n",
        "\n",
        "# **Training:Applied Data Science**"
      ],
      "metadata": {
        "id": "kwNjOlR3UKRa"
      }
    },
    {
      "cell_type": "markdown",
      "source": [
        "1.Assign your Name to variable name and Age to variable age. Make a Python program that prints your name and age."
      ],
      "metadata": {
        "id": "DqZqUmp9VCUS"
      }
    },
    {
      "cell_type": "code",
      "source": [
        "name = \"B.Sreeram Bhuvan\"\n",
        "age = 21\n",
        "print('my name is:'+name)\n",
        "print(\"I am\",age,'years old')"
      ],
      "metadata": {
        "id": "UWIrepheVOHo",
        "colab": {
          "base_uri": "https://localhost:8080/"
        },
        "outputId": "e4084f2c-dc25-4c1c-8c50-dca0285d5c1b"
      },
      "execution_count": null,
      "outputs": [
        {
          "output_type": "stream",
          "name": "stdout",
          "text": [
            "my name is:B.Sreeram Bhuvan\n",
            "I am 21 years old\n"
          ]
        }
      ]
    },
    {
      "cell_type": "markdown",
      "source": [
        "2.X=\"Datascience is used to extract meaningful insights.\" Split the string"
      ],
      "metadata": {
        "id": "XC3ZtC6_VZtc"
      }
    },
    {
      "cell_type": "code",
      "source": [
        "X=\"Datascience is used to extract meaningful insights.\"\n",
        "print(X.split(\" \"))"
      ],
      "metadata": {
        "colab": {
          "base_uri": "https://localhost:8080/"
        },
        "id": "A0LY8KbmVcm5",
        "outputId": "b32c12fd-3769-4798-9625-d4f76bbcb17e"
      },
      "execution_count": null,
      "outputs": [
        {
          "output_type": "stream",
          "name": "stdout",
          "text": [
            "['Datascience', 'is', 'used', 'to', 'extract', 'meaningful', 'insights.']\n"
          ]
        }
      ]
    },
    {
      "cell_type": "markdown",
      "source": [
        "3.Make a function that gives multiplication of two numbers"
      ],
      "metadata": {
        "id": "IIb6fmkZVkC4"
      }
    },
    {
      "cell_type": "code",
      "source": [
        "def multiply(x,y):\n",
        "  return x*y\n",
        "num1 = int(input(\"Enter 1st Number (x): \"))\n",
        "num2 = int(input(\"Enter 2nd Number(y): \"))\n",
        "print(f\"{num1} * {num2} = {multiply(num1,num2)}\")"
      ],
      "metadata": {
        "colab": {
          "base_uri": "https://localhost:8080/"
        },
        "id": "ywHIEZjkVnAB",
        "outputId": "d2a9ffce-77cb-40b4-9d07-9605071570bc"
      },
      "execution_count": null,
      "outputs": [
        {
          "output_type": "stream",
          "name": "stdout",
          "text": [
            "Enter 1st Number (x): 3\n",
            "Enter 2nd Number(y): 7\n",
            "3 * 7 = 21\n"
          ]
        }
      ]
    },
    {
      "cell_type": "markdown",
      "source": [
        "4.Create a Dictionary of 5 States with their capitals. also print the keys and values."
      ],
      "metadata": {
        "id": "xfLtoi4-V44b"
      }
    },
    {
      "cell_type": "code",
      "source": [
        "dictionary = {\"Telangana\":\"Hyderabad\",\"TamilNadu\":\"Chennai\", \"Andhra Pradesh\":\"Amaravati\", \"Punjab\":\"Chandigarh\", \"Kerala\":\"Thiruvananthapuram\",\"Sikkim\":\"Gangtok\"}\n",
        "for i,j in dictionary.items():\n",
        "  print('state:'+i,\" : \",'capital:'+j)"
      ],
      "metadata": {
        "colab": {
          "base_uri": "https://localhost:8080/"
        },
        "id": "scXBCGQkV71C",
        "outputId": "ff6201e3-576b-4b1b-dabc-7f4d06d270ef"
      },
      "execution_count": null,
      "outputs": [
        {
          "output_type": "stream",
          "name": "stdout",
          "text": [
            "state:Telangana  :  capital:Hyderabad\n",
            "state:TamilNadu  :  capital:Chennai\n",
            "state:Andhra Pradesh  :  capital:Amaravati\n",
            "state:Punjab  :  capital:Chandigarh\n",
            "state:Kerala  :  capital:Thiruvananthapuram\n",
            "state:Sikkim  :  capital:Gangtok\n"
          ]
        }
      ]
    },
    {
      "cell_type": "markdown",
      "source": [
        "5.Create a list of 1000 numbers using range function."
      ],
      "metadata": {
        "id": "nuulHihGWMgY"
      }
    },
    {
      "cell_type": "code",
      "source": [
        "listt = list(range(1,1001))\n",
        "print(listt)"
      ],
      "metadata": {
        "colab": {
          "base_uri": "https://localhost:8080/"
        },
        "id": "KNYiOWygWPQA",
        "outputId": "ec3d4f30-14fe-4e75-b4bf-8187601f366e"
      },
      "execution_count": null,
      "outputs": [
        {
          "output_type": "stream",
          "name": "stdout",
          "text": [
            "[1, 2, 3, 4, 5, 6, 7, 8, 9, 10, 11, 12, 13, 14, 15, 16, 17, 18, 19, 20, 21, 22, 23, 24, 25, 26, 27, 28, 29, 30, 31, 32, 33, 34, 35, 36, 37, 38, 39, 40, 41, 42, 43, 44, 45, 46, 47, 48, 49, 50, 51, 52, 53, 54, 55, 56, 57, 58, 59, 60, 61, 62, 63, 64, 65, 66, 67, 68, 69, 70, 71, 72, 73, 74, 75, 76, 77, 78, 79, 80, 81, 82, 83, 84, 85, 86, 87, 88, 89, 90, 91, 92, 93, 94, 95, 96, 97, 98, 99, 100, 101, 102, 103, 104, 105, 106, 107, 108, 109, 110, 111, 112, 113, 114, 115, 116, 117, 118, 119, 120, 121, 122, 123, 124, 125, 126, 127, 128, 129, 130, 131, 132, 133, 134, 135, 136, 137, 138, 139, 140, 141, 142, 143, 144, 145, 146, 147, 148, 149, 150, 151, 152, 153, 154, 155, 156, 157, 158, 159, 160, 161, 162, 163, 164, 165, 166, 167, 168, 169, 170, 171, 172, 173, 174, 175, 176, 177, 178, 179, 180, 181, 182, 183, 184, 185, 186, 187, 188, 189, 190, 191, 192, 193, 194, 195, 196, 197, 198, 199, 200, 201, 202, 203, 204, 205, 206, 207, 208, 209, 210, 211, 212, 213, 214, 215, 216, 217, 218, 219, 220, 221, 222, 223, 224, 225, 226, 227, 228, 229, 230, 231, 232, 233, 234, 235, 236, 237, 238, 239, 240, 241, 242, 243, 244, 245, 246, 247, 248, 249, 250, 251, 252, 253, 254, 255, 256, 257, 258, 259, 260, 261, 262, 263, 264, 265, 266, 267, 268, 269, 270, 271, 272, 273, 274, 275, 276, 277, 278, 279, 280, 281, 282, 283, 284, 285, 286, 287, 288, 289, 290, 291, 292, 293, 294, 295, 296, 297, 298, 299, 300, 301, 302, 303, 304, 305, 306, 307, 308, 309, 310, 311, 312, 313, 314, 315, 316, 317, 318, 319, 320, 321, 322, 323, 324, 325, 326, 327, 328, 329, 330, 331, 332, 333, 334, 335, 336, 337, 338, 339, 340, 341, 342, 343, 344, 345, 346, 347, 348, 349, 350, 351, 352, 353, 354, 355, 356, 357, 358, 359, 360, 361, 362, 363, 364, 365, 366, 367, 368, 369, 370, 371, 372, 373, 374, 375, 376, 377, 378, 379, 380, 381, 382, 383, 384, 385, 386, 387, 388, 389, 390, 391, 392, 393, 394, 395, 396, 397, 398, 399, 400, 401, 402, 403, 404, 405, 406, 407, 408, 409, 410, 411, 412, 413, 414, 415, 416, 417, 418, 419, 420, 421, 422, 423, 424, 425, 426, 427, 428, 429, 430, 431, 432, 433, 434, 435, 436, 437, 438, 439, 440, 441, 442, 443, 444, 445, 446, 447, 448, 449, 450, 451, 452, 453, 454, 455, 456, 457, 458, 459, 460, 461, 462, 463, 464, 465, 466, 467, 468, 469, 470, 471, 472, 473, 474, 475, 476, 477, 478, 479, 480, 481, 482, 483, 484, 485, 486, 487, 488, 489, 490, 491, 492, 493, 494, 495, 496, 497, 498, 499, 500, 501, 502, 503, 504, 505, 506, 507, 508, 509, 510, 511, 512, 513, 514, 515, 516, 517, 518, 519, 520, 521, 522, 523, 524, 525, 526, 527, 528, 529, 530, 531, 532, 533, 534, 535, 536, 537, 538, 539, 540, 541, 542, 543, 544, 545, 546, 547, 548, 549, 550, 551, 552, 553, 554, 555, 556, 557, 558, 559, 560, 561, 562, 563, 564, 565, 566, 567, 568, 569, 570, 571, 572, 573, 574, 575, 576, 577, 578, 579, 580, 581, 582, 583, 584, 585, 586, 587, 588, 589, 590, 591, 592, 593, 594, 595, 596, 597, 598, 599, 600, 601, 602, 603, 604, 605, 606, 607, 608, 609, 610, 611, 612, 613, 614, 615, 616, 617, 618, 619, 620, 621, 622, 623, 624, 625, 626, 627, 628, 629, 630, 631, 632, 633, 634, 635, 636, 637, 638, 639, 640, 641, 642, 643, 644, 645, 646, 647, 648, 649, 650, 651, 652, 653, 654, 655, 656, 657, 658, 659, 660, 661, 662, 663, 664, 665, 666, 667, 668, 669, 670, 671, 672, 673, 674, 675, 676, 677, 678, 679, 680, 681, 682, 683, 684, 685, 686, 687, 688, 689, 690, 691, 692, 693, 694, 695, 696, 697, 698, 699, 700, 701, 702, 703, 704, 705, 706, 707, 708, 709, 710, 711, 712, 713, 714, 715, 716, 717, 718, 719, 720, 721, 722, 723, 724, 725, 726, 727, 728, 729, 730, 731, 732, 733, 734, 735, 736, 737, 738, 739, 740, 741, 742, 743, 744, 745, 746, 747, 748, 749, 750, 751, 752, 753, 754, 755, 756, 757, 758, 759, 760, 761, 762, 763, 764, 765, 766, 767, 768, 769, 770, 771, 772, 773, 774, 775, 776, 777, 778, 779, 780, 781, 782, 783, 784, 785, 786, 787, 788, 789, 790, 791, 792, 793, 794, 795, 796, 797, 798, 799, 800, 801, 802, 803, 804, 805, 806, 807, 808, 809, 810, 811, 812, 813, 814, 815, 816, 817, 818, 819, 820, 821, 822, 823, 824, 825, 826, 827, 828, 829, 830, 831, 832, 833, 834, 835, 836, 837, 838, 839, 840, 841, 842, 843, 844, 845, 846, 847, 848, 849, 850, 851, 852, 853, 854, 855, 856, 857, 858, 859, 860, 861, 862, 863, 864, 865, 866, 867, 868, 869, 870, 871, 872, 873, 874, 875, 876, 877, 878, 879, 880, 881, 882, 883, 884, 885, 886, 887, 888, 889, 890, 891, 892, 893, 894, 895, 896, 897, 898, 899, 900, 901, 902, 903, 904, 905, 906, 907, 908, 909, 910, 911, 912, 913, 914, 915, 916, 917, 918, 919, 920, 921, 922, 923, 924, 925, 926, 927, 928, 929, 930, 931, 932, 933, 934, 935, 936, 937, 938, 939, 940, 941, 942, 943, 944, 945, 946, 947, 948, 949, 950, 951, 952, 953, 954, 955, 956, 957, 958, 959, 960, 961, 962, 963, 964, 965, 966, 967, 968, 969, 970, 971, 972, 973, 974, 975, 976, 977, 978, 979, 980, 981, 982, 983, 984, 985, 986, 987, 988, 989, 990, 991, 992, 993, 994, 995, 996, 997, 998, 999, 1000]\n"
          ]
        }
      ]
    },
    {
      "cell_type": "markdown",
      "source": [
        "6.Create an identity matrix of dimension 4 by 4"
      ],
      "metadata": {
        "id": "KJe3tBncWUdu"
      }
    },
    {
      "cell_type": "code",
      "source": [
        "import numpy as np\n",
        "matrix = np.identity(4, dtype  = int)\n",
        "print(matrix)"
      ],
      "metadata": {
        "colab": {
          "base_uri": "https://localhost:8080/"
        },
        "id": "3H0NySGCWXfs",
        "outputId": "673d82ae-28d9-42cf-ded1-dfec89e3d6d0"
      },
      "execution_count": null,
      "outputs": [
        {
          "output_type": "stream",
          "name": "stdout",
          "text": [
            "[[1 0 0 0]\n",
            " [0 1 0 0]\n",
            " [0 0 1 0]\n",
            " [0 0 0 1]]\n"
          ]
        }
      ]
    },
    {
      "cell_type": "markdown",
      "source": [
        "7.Create a 3x3 matrix with values ranging from 1 to 9"
      ],
      "metadata": {
        "id": "JrWpOwZSWfGz"
      }
    },
    {
      "cell_type": "code",
      "source": [
        "matrix = []\n",
        "a=1\n",
        "for i in range(1,4):\n",
        "  listt = []\n",
        "  for j in range(1,4):\n",
        "    listt.append(a)\n",
        "    a+=1\n",
        "  matrix.append(listt)\n",
        "\n",
        "print(matrix)"
      ],
      "metadata": {
        "colab": {
          "base_uri": "https://localhost:8080/"
        },
        "id": "_vaS-sS8WhqE",
        "outputId": "9d10a66b-804e-40a4-cc18-2082d69d99d9"
      },
      "execution_count": null,
      "outputs": [
        {
          "output_type": "stream",
          "name": "stdout",
          "text": [
            "[[1, 2, 3], [4, 5, 6], [7, 8, 9]]\n"
          ]
        }
      ]
    },
    {
      "cell_type": "markdown",
      "source": [
        "8.Create 2 similar dimensional array and perform sum on them."
      ],
      "metadata": {
        "id": "Vgr0G6lDWsbR"
      }
    },
    {
      "cell_type": "code",
      "source": [
        "import numpy as np\n",
        "array1 = np.array([[1, 13, 3], [4, 5, 6]])\n",
        "array2 = np.array([[18, 8, 9], [10, 11, 12]])\n",
        "result = array1 + array2\n",
        "print(\"Result : \", result)\n"
      ],
      "metadata": {
        "colab": {
          "base_uri": "https://localhost:8080/"
        },
        "id": "eyuXphNWWu-H",
        "outputId": "2bd3b2ab-c7b3-4b1d-f9fb-b062a54e82df"
      },
      "execution_count": null,
      "outputs": [
        {
          "output_type": "stream",
          "name": "stdout",
          "text": [
            "Result :  [[19 21 12]\n",
            " [14 16 18]]\n"
          ]
        }
      ]
    },
    {
      "cell_type": "markdown",
      "source": [
        "9.Generate the series of dates from 1st Feb, 2023 to 1st March, 2023 (both inclusive)"
      ],
      "metadata": {
        "id": "oqyU07EQW3JE"
      }
    },
    {
      "cell_type": "code",
      "source": [
        "from datetime import datetime, timedelta\n",
        "start_date = datetime(2023, 2, 1)\n",
        "end_date = datetime(2023, 3, 1)\n",
        "current_date = start_date\n",
        "while current_date <= end_date:\n",
        "    print(current_date.strftime('%d-%m-%Y'))\n",
        "    current_date += timedelta(days=1)"
      ],
      "metadata": {
        "colab": {
          "base_uri": "https://localhost:8080/"
        },
        "id": "NHpf2uU2W54I",
        "outputId": "86d1c23b-7b21-42d8-fb23-b19f84bfee3a"
      },
      "execution_count": null,
      "outputs": [
        {
          "output_type": "stream",
          "name": "stdout",
          "text": [
            "01-02-2023\n",
            "02-02-2023\n",
            "03-02-2023\n",
            "04-02-2023\n",
            "05-02-2023\n",
            "06-02-2023\n",
            "07-02-2023\n",
            "08-02-2023\n",
            "09-02-2023\n",
            "10-02-2023\n",
            "11-02-2023\n",
            "12-02-2023\n",
            "13-02-2023\n",
            "14-02-2023\n",
            "15-02-2023\n",
            "16-02-2023\n",
            "17-02-2023\n",
            "18-02-2023\n",
            "19-02-2023\n",
            "20-02-2023\n",
            "21-02-2023\n",
            "22-02-2023\n",
            "23-02-2023\n",
            "24-02-2023\n",
            "25-02-2023\n",
            "26-02-2023\n",
            "27-02-2023\n",
            "28-02-2023\n",
            "01-03-2023\n"
          ]
        }
      ]
    },
    {
      "cell_type": "markdown",
      "source": [
        "10.Given a dictionary, convert it into corresponding dataframe and display it dictionary = {'Brand': ['Maruti', 'Renault', 'Hyndai'], 'Sales' : [250, 200, 240]}"
      ],
      "metadata": {
        "id": "pjB5woiSXNvt"
      }
    },
    {
      "cell_type": "code",
      "source": [
        "import pandas as pd\n",
        "dictionary = {'Brand': ['Maruti', 'Renault', 'Hyundai'], 'Sales': [250, 200, 240]}\n",
        "df = pd.DataFrame(dictionary)\n",
        "print(df)"
      ],
      "metadata": {
        "colab": {
          "base_uri": "https://localhost:8080/"
        },
        "id": "DmcfnOPuXm48",
        "outputId": "07484ef0-e52d-404a-834f-4381ac19b833"
      },
      "execution_count": null,
      "outputs": [
        {
          "output_type": "stream",
          "name": "stdout",
          "text": [
            "     Brand  Sales\n",
            "0   Maruti    250\n",
            "1  Renault    200\n",
            "2  Hyundai    240\n"
          ]
        }
      ]
    }
  ]
}